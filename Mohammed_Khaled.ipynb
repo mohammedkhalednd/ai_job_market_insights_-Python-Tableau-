{
 "cells": [
  {
   "cell_type": "code",
   "execution_count": 1,
   "id": "8790944c-8a12-415c-9436-50b0ca871691",
   "metadata": {},
   "outputs": [
    {
     "data": {
      "text/html": [
       "<div>\n",
       "<style scoped>\n",
       "    .dataframe tbody tr th:only-of-type {\n",
       "        vertical-align: middle;\n",
       "    }\n",
       "\n",
       "    .dataframe tbody tr th {\n",
       "        vertical-align: top;\n",
       "    }\n",
       "\n",
       "    .dataframe thead th {\n",
       "        text-align: right;\n",
       "    }\n",
       "</style>\n",
       "<table border=\"1\" class=\"dataframe\">\n",
       "  <thead>\n",
       "    <tr style=\"text-align: right;\">\n",
       "      <th></th>\n",
       "      <th>Job_Title</th>\n",
       "      <th>Industry</th>\n",
       "      <th>Company_Size</th>\n",
       "      <th>Location</th>\n",
       "      <th>AI_Adoption_Level</th>\n",
       "      <th>Automation_Risk</th>\n",
       "      <th>Required_Skills</th>\n",
       "      <th>Salary_USD</th>\n",
       "      <th>Remote_Friendly</th>\n",
       "      <th>Job_Growth_Projection</th>\n",
       "    </tr>\n",
       "  </thead>\n",
       "  <tbody>\n",
       "    <tr>\n",
       "      <th>0</th>\n",
       "      <td>Cybersecurity Analyst</td>\n",
       "      <td>Entertainment</td>\n",
       "      <td>Small</td>\n",
       "      <td>Dubai</td>\n",
       "      <td>Medium</td>\n",
       "      <td>High</td>\n",
       "      <td>UX/UI Design</td>\n",
       "      <td>111392.165243</td>\n",
       "      <td>Yes</td>\n",
       "      <td>Growth</td>\n",
       "    </tr>\n",
       "    <tr>\n",
       "      <th>1</th>\n",
       "      <td>Marketing Specialist</td>\n",
       "      <td>Technology</td>\n",
       "      <td>Large</td>\n",
       "      <td>Singapore</td>\n",
       "      <td>Medium</td>\n",
       "      <td>High</td>\n",
       "      <td>Marketing</td>\n",
       "      <td>93792.562466</td>\n",
       "      <td>No</td>\n",
       "      <td>Decline</td>\n",
       "    </tr>\n",
       "    <tr>\n",
       "      <th>2</th>\n",
       "      <td>AI Researcher</td>\n",
       "      <td>Technology</td>\n",
       "      <td>Large</td>\n",
       "      <td>Singapore</td>\n",
       "      <td>Medium</td>\n",
       "      <td>High</td>\n",
       "      <td>UX/UI Design</td>\n",
       "      <td>107170.263069</td>\n",
       "      <td>Yes</td>\n",
       "      <td>Growth</td>\n",
       "    </tr>\n",
       "    <tr>\n",
       "      <th>3</th>\n",
       "      <td>Sales Manager</td>\n",
       "      <td>Retail</td>\n",
       "      <td>Small</td>\n",
       "      <td>Berlin</td>\n",
       "      <td>Low</td>\n",
       "      <td>High</td>\n",
       "      <td>Project Management</td>\n",
       "      <td>93027.953758</td>\n",
       "      <td>No</td>\n",
       "      <td>Growth</td>\n",
       "    </tr>\n",
       "    <tr>\n",
       "      <th>4</th>\n",
       "      <td>Cybersecurity Analyst</td>\n",
       "      <td>Entertainment</td>\n",
       "      <td>Small</td>\n",
       "      <td>Tokyo</td>\n",
       "      <td>Low</td>\n",
       "      <td>Low</td>\n",
       "      <td>JavaScript</td>\n",
       "      <td>87752.922171</td>\n",
       "      <td>Yes</td>\n",
       "      <td>Decline</td>\n",
       "    </tr>\n",
       "  </tbody>\n",
       "</table>\n",
       "</div>"
      ],
      "text/plain": [
       "               Job_Title       Industry Company_Size   Location  \\\n",
       "0  Cybersecurity Analyst  Entertainment        Small      Dubai   \n",
       "1   Marketing Specialist     Technology        Large  Singapore   \n",
       "2          AI Researcher     Technology        Large  Singapore   \n",
       "3          Sales Manager         Retail        Small     Berlin   \n",
       "4  Cybersecurity Analyst  Entertainment        Small      Tokyo   \n",
       "\n",
       "  AI_Adoption_Level Automation_Risk     Required_Skills     Salary_USD  \\\n",
       "0            Medium            High        UX/UI Design  111392.165243   \n",
       "1            Medium            High           Marketing   93792.562466   \n",
       "2            Medium            High        UX/UI Design  107170.263069   \n",
       "3               Low            High  Project Management   93027.953758   \n",
       "4               Low             Low          JavaScript   87752.922171   \n",
       "\n",
       "  Remote_Friendly Job_Growth_Projection  \n",
       "0             Yes                Growth  \n",
       "1              No               Decline  \n",
       "2             Yes                Growth  \n",
       "3              No                Growth  \n",
       "4             Yes               Decline  "
      ]
     },
     "execution_count": 1,
     "metadata": {},
     "output_type": "execute_result"
    }
   ],
   "source": [
    "import pandas as pd\n",
    "file_path = 'ai_job_market_insights.csv'\n",
    "df = pd.read_csv(file_path)\n",
    "df.head()"
   ]
  },
  {
   "cell_type": "code",
   "execution_count": 9,
   "id": "71289d57-dec4-483f-a89a-0e4419e806f1",
   "metadata": {},
   "outputs": [
    {
     "data": {
      "text/plain": [
       "Job_Title                 object\n",
       "Industry                  object\n",
       "Company_Size              object\n",
       "Location                  object\n",
       "AI_Adoption_Level         object\n",
       "Automation_Risk           object\n",
       "Required_Skills           object\n",
       "Salary_USD               float64\n",
       "Remote_Friendly           object\n",
       "Job_Growth_Projection     object\n",
       "dtype: object"
      ]
     },
     "execution_count": 9,
     "metadata": {},
     "output_type": "execute_result"
    }
   ],
   "source": [
    "df.dtypes"
   ]
  },
  {
   "cell_type": "code",
   "execution_count": 11,
   "id": "34939212-ee71-47a5-af23-355e47085f08",
   "metadata": {},
   "outputs": [
    {
     "data": {
      "text/plain": [
       "Job_Title\n",
       "Data Scientist           62\n",
       "HR Manager               57\n",
       "Cybersecurity Analyst    55\n",
       "UX Designer              54\n",
       "AI Researcher            51\n",
       "Sales Manager            49\n",
       "Marketing Specialist     48\n",
       "Operations Manager       44\n",
       "Software Engineer        41\n",
       "Product Manager          39\n",
       "Name: count, dtype: int64"
      ]
     },
     "execution_count": 11,
     "metadata": {},
     "output_type": "execute_result"
    }
   ],
   "source": [
    "df['Job_Title'].value_counts()"
   ]
  },
  {
   "cell_type": "code",
   "execution_count": 15,
   "id": "73e8b2bf-ce17-46b1-bfa7-2cea70a1a35e",
   "metadata": {},
   "outputs": [
    {
     "data": {
      "text/plain": [
       "Industry\n",
       "Manufacturing         58\n",
       "Education             57\n",
       "Technology            56\n",
       "Finance               53\n",
       "Telecommunications    53\n",
       "Energy                49\n",
       "Entertainment         47\n",
       "Retail                46\n",
       "Healthcare            42\n",
       "Transportation        39\n",
       "Name: count, dtype: int64"
      ]
     },
     "execution_count": 15,
     "metadata": {},
     "output_type": "execute_result"
    }
   ],
   "source": [
    "df['Industry'].value_counts()"
   ]
  },
  {
   "cell_type": "code",
   "execution_count": 19,
   "id": "6107f28b-cdbc-4fc6-89f7-a9c8be8eac8b",
   "metadata": {},
   "outputs": [
    {
     "data": {
      "text/plain": [
       "Location\n",
       "San Francisco    62\n",
       "Singapore        54\n",
       "Sydney           52\n",
       "Dubai            51\n",
       "Tokyo            51\n",
       "New York         49\n",
       "Berlin           48\n",
       "London           46\n",
       "Paris            46\n",
       "Toronto          41\n",
       "Name: count, dtype: int64"
      ]
     },
     "execution_count": 19,
     "metadata": {},
     "output_type": "execute_result"
    }
   ],
   "source": [
    "df['Location'].value_counts()"
   ]
  },
  {
   "cell_type": "code",
   "execution_count": 27,
   "id": "55ecc57c-9a73-43b7-9ca4-7a50c7e0e6cc",
   "metadata": {},
   "outputs": [
    {
     "data": {
      "text/plain": [
       "Company_Size\n",
       "Small     171\n",
       "Large     166\n",
       "Medium    163\n",
       "Name: count, dtype: int64"
      ]
     },
     "execution_count": 27,
     "metadata": {},
     "output_type": "execute_result"
    }
   ],
   "source": [
    "df['Company_Size'].value_counts()"
   ]
  },
  {
   "cell_type": "code",
   "execution_count": 29,
   "id": "cf9a99be-57f8-41c4-bead-3dc0679f0408",
   "metadata": {},
   "outputs": [
    {
     "data": {
      "text/plain": [
       "AI_Adoption_Level\n",
       "Medium    179\n",
       "Low       174\n",
       "High      147\n",
       "Name: count, dtype: int64"
      ]
     },
     "execution_count": 29,
     "metadata": {},
     "output_type": "execute_result"
    }
   ],
   "source": [
    "df['AI_Adoption_Level'].value_counts()"
   ]
  },
  {
   "cell_type": "code",
   "execution_count": 31,
   "id": "4b34a03b-175c-4b21-ad76-0cef2848f208",
   "metadata": {},
   "outputs": [
    {
     "data": {
      "text/plain": [
       "Required_Skills\n",
       "Project Management    60\n",
       "Python                60\n",
       "Cybersecurity         58\n",
       "Machine Learning      52\n",
       "UX/UI Design          49\n",
       "Sales                 49\n",
       "Data Analysis         49\n",
       "Marketing             45\n",
       "JavaScript            44\n",
       "Communication         34\n",
       "Name: count, dtype: int64"
      ]
     },
     "execution_count": 31,
     "metadata": {},
     "output_type": "execute_result"
    }
   ],
   "source": [
    "df['Required_Skills'].value_counts()"
   ]
  },
  {
   "cell_type": "code",
   "execution_count": 33,
   "id": "3b1a50f8-b757-4bf0-9a82-1f66b8687b2a",
   "metadata": {},
   "outputs": [
    {
     "data": {
      "text/plain": [
       "Job_Growth_Projection\n",
       "Growth     169\n",
       "Decline    169\n",
       "Stable     162\n",
       "Name: count, dtype: int64"
      ]
     },
     "execution_count": 33,
     "metadata": {},
     "output_type": "execute_result"
    }
   ],
   "source": [
    "df['Job_Growth_Projection'].value_counts()"
   ]
  },
  {
   "cell_type": "code",
   "execution_count": 35,
   "id": "6a908adf-bd0d-4fee-be4b-b6351681683d",
   "metadata": {},
   "outputs": [
    {
     "data": {
      "text/plain": [
       "Automation_Risk\n",
       "Medium    173\n",
       "High      169\n",
       "Low       158\n",
       "Name: count, dtype: int64"
      ]
     },
     "execution_count": 35,
     "metadata": {},
     "output_type": "execute_result"
    }
   ],
   "source": [
    "df['Automation_Risk'].value_counts()"
   ]
  },
  {
   "cell_type": "code",
   "execution_count": 37,
   "id": "afe32a5e-e49a-4274-aa9b-4b04cb272d31",
   "metadata": {},
   "outputs": [
    {
     "data": {
      "text/html": [
       "<div>\n",
       "<style scoped>\n",
       "    .dataframe tbody tr th:only-of-type {\n",
       "        vertical-align: middle;\n",
       "    }\n",
       "\n",
       "    .dataframe tbody tr th {\n",
       "        vertical-align: top;\n",
       "    }\n",
       "\n",
       "    .dataframe thead th {\n",
       "        text-align: right;\n",
       "    }\n",
       "</style>\n",
       "<table border=\"1\" class=\"dataframe\">\n",
       "  <thead>\n",
       "    <tr style=\"text-align: right;\">\n",
       "      <th></th>\n",
       "      <th>Salary_USD</th>\n",
       "    </tr>\n",
       "  </thead>\n",
       "  <tbody>\n",
       "    <tr>\n",
       "      <th>count</th>\n",
       "      <td>500.000000</td>\n",
       "    </tr>\n",
       "    <tr>\n",
       "      <th>mean</th>\n",
       "      <td>91222.390974</td>\n",
       "    </tr>\n",
       "    <tr>\n",
       "      <th>std</th>\n",
       "      <td>20504.291453</td>\n",
       "    </tr>\n",
       "    <tr>\n",
       "      <th>min</th>\n",
       "      <td>31969.526346</td>\n",
       "    </tr>\n",
       "    <tr>\n",
       "      <th>25%</th>\n",
       "      <td>78511.514863</td>\n",
       "    </tr>\n",
       "    <tr>\n",
       "      <th>50%</th>\n",
       "      <td>91998.195286</td>\n",
       "    </tr>\n",
       "    <tr>\n",
       "      <th>75%</th>\n",
       "      <td>103971.282092</td>\n",
       "    </tr>\n",
       "    <tr>\n",
       "      <th>max</th>\n",
       "      <td>155209.821614</td>\n",
       "    </tr>\n",
       "  </tbody>\n",
       "</table>\n",
       "</div>"
      ],
      "text/plain": [
       "          Salary_USD\n",
       "count     500.000000\n",
       "mean    91222.390974\n",
       "std     20504.291453\n",
       "min     31969.526346\n",
       "25%     78511.514863\n",
       "50%     91998.195286\n",
       "75%    103971.282092\n",
       "max    155209.821614"
      ]
     },
     "execution_count": 37,
     "metadata": {},
     "output_type": "execute_result"
    }
   ],
   "source": [
    "df.describe()"
   ]
  },
  {
   "cell_type": "code",
   "execution_count": 39,
   "id": "946f5cab-a211-4fa6-b21f-8411ddd25379",
   "metadata": {},
   "outputs": [
    {
     "name": "stdout",
     "output_type": "stream",
     "text": [
      "<class 'pandas.core.frame.DataFrame'>\n",
      "RangeIndex: 500 entries, 0 to 499\n",
      "Data columns (total 10 columns):\n",
      " #   Column                 Non-Null Count  Dtype  \n",
      "---  ------                 --------------  -----  \n",
      " 0   Job_Title              500 non-null    object \n",
      " 1   Industry               500 non-null    object \n",
      " 2   Company_Size           500 non-null    object \n",
      " 3   Location               500 non-null    object \n",
      " 4   AI_Adoption_Level      500 non-null    object \n",
      " 5   Automation_Risk        500 non-null    object \n",
      " 6   Required_Skills        500 non-null    object \n",
      " 7   Salary_USD             500 non-null    float64\n",
      " 8   Remote_Friendly        500 non-null    object \n",
      " 9   Job_Growth_Projection  500 non-null    object \n",
      "dtypes: float64(1), object(9)\n",
      "memory usage: 39.2+ KB\n"
     ]
    }
   ],
   "source": [
    "df.info()"
   ]
  },
  {
   "cell_type": "code",
   "execution_count": 41,
   "id": "6ddcf8ce-00e4-4887-9d9c-d2d265a58c72",
   "metadata": {},
   "outputs": [],
   "source": [
    "df.to_csv('cleaned_Ai_Job_Market_Insights.csv', index=False)"
   ]
  },
  {
   "cell_type": "code",
   "execution_count": null,
   "id": "3dd1c45c-55d8-4ea4-9790-27e1def5717e",
   "metadata": {},
   "outputs": [],
   "source": []
  }
 ],
 "metadata": {
  "kernelspec": {
   "display_name": "Python 3 (ipykernel)",
   "language": "python",
   "name": "python3"
  },
  "language_info": {
   "codemirror_mode": {
    "name": "ipython",
    "version": 3
   },
   "file_extension": ".py",
   "mimetype": "text/x-python",
   "name": "python",
   "nbconvert_exporter": "python",
   "pygments_lexer": "ipython3",
   "version": "3.12.4"
  }
 },
 "nbformat": 4,
 "nbformat_minor": 5
}
